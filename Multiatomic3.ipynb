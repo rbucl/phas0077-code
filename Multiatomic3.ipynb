{
 "cells": [
  {
   "cell_type": "code",
   "execution_count": 1,
   "metadata": {},
   "outputs": [],
   "source": [
    "from Multiatomic import *"
   ]
  },
  {
   "cell_type": "markdown",
   "metadata": {},
   "source": [
    "### Example 3: $\\mathrm{O_2}$, Interpolated, Velocity-Verlet, Ensemble"
   ]
  },
  {
   "cell_type": "code",
   "execution_count": 2,
   "metadata": {},
   "outputs": [
    {
     "data": {
      "image/png": "[encoded data removed]",
      "text/plain": [
       "<Figure size 640x480 with 1 Axes>"
      ]
     },
     "metadata": {},
     "output_type": "display_data"
    }
   ],
   "source": [
    "o2Data = np.genfromtxt('o2-potentials.dat', skip_header = 1, dtype = np.longdouble, delimiter = ' ')\n",
    "xs = o2Data[:, 0]\n",
    "ys = o2Data[:, 1]\n",
    "noPoints = 1000\n",
    "xPlot = np.linspace(np.min(xs), np.max(xs), noPoints)\n",
    "yPlot = np.interp(xPlot, xs, ys)\n",
    "plt.scatter(xs, ys, label = \"Data\")\n",
    "plt.plot(xPlot, yPlot, label = \"Model\")\n",
    "plt.xlabel(\"$r$\")\n",
    "plt.ylabel(\"$V(r)$\")\n",
    "plt.legend()\n",
    "plt.title(\"$\\mathrm{O_2}$ Potential vs. Atomic Seperation\")\n",
    "plt.show()"
   ]
  },
  {
   "cell_type": "code",
   "execution_count": 3,
   "metadata": {},
   "outputs": [],
   "source": [
    "def o2Interpolated(atoms, params) -> float:\n",
    "    if (debugMode):\n",
    "        if (not isinstance(atoms, np.ndarray)):\n",
    "            raise RuntimeError(\"Invalid atoms. Must be a NumPy array.\")\n",
    "        if (len(atoms) != 2):\n",
    "            raise RuntimeError(\"Invalid no. atoms. Must be 2.\")\n",
    "        for atom in atoms:\n",
    "            if (not isinstance(atom, Atom)):\n",
    "                raise RuntimeError(\"Invalid atoms. Must be Atom type.\")\n",
    "    r = atoms[0].getPosition() - atoms[1].getPosition()\n",
    "    lengthOfR = np.linalg.norm(r)\n",
    "    return np.interp(lengthOfR, xs, ys)"
   ]
  },
  {
   "cell_type": "code",
   "execution_count": 4,
   "metadata": {},
   "outputs": [
    {
     "name": "stdout",
     "output_type": "stream",
     "text": [
      "Simulation Time: 58.21713590621948 seconds\n"
     ]
    }
   ],
   "source": [
    "kB = 3.166811563 * 10e-6 # Hartree / Kelvin\n",
    "mass = 15.994 # Dalton\n",
    "temperature = 100.0\n",
    "noMolecules = 2\n",
    "noPoints = 2 * noMolecules\n",
    "v_x, v_y, v_z = sampleVelocities(kB, mass, temperature, noPoints)\n",
    "ensemble = []\n",
    "for i in range(0, noMolecules, 1):\n",
    "    atom1 = Atom(\"Atom1\", 15.994, np.array([-1.0, 0.0, 0.0]), np.array([v_x[i], v_y[i], v_z[i]]), np.array([0.0, 0.0, 0.0]))\n",
    "    atom2 = Atom(\"Atom2\", 15.994, np.array([1.0, 0.0, 0.0]), np.array([v_x[noMolecules + i], v_y[noMolecules + i], v_z[noMolecules + i]]), np.array([0.0, 0.0, 0.0]))\n",
    "    atoms = np.array([atom1, atom2])\n",
    "    potential = Potential(o2Interpolated)\n",
    "    ensemble.append(MolecularSystem(atoms, potential))\n",
    "integratorName = \"velocityVerlet\"\n",
    "filepath = thisdir / 'Multiatomic3'\n",
    "N = 10000\n",
    "deltaT = 0.001\n",
    "startTime = time.time()\n",
    "for i in range(0, noMolecules, 1):\n",
    "    ensemble[i] = simulate(filepath, ensemble[i], integratorName, N, deltaT)\n",
    "endTime = time.time()\n",
    "print(\"Simulation Time:\", endTime - startTime, \"seconds\")"
   ]
  },
  {
   "cell_type": "code",
   "execution_count": 5,
   "metadata": {},
   "outputs": [],
   "source": [
    "aspath = filepath / 'AtomicSeparations.csv'\n",
    "avdir = filepath / 'AtomicVelocities'\n",
    "enpath = filepath / 'Energies.csv'"
   ]
  },
  {
   "cell_type": "code",
   "execution_count": 6,
   "metadata": {},
   "outputs": [
    {
     "name": "stdout",
     "output_type": "stream",
     "text": [
      "Initial Total Energy: 0.0485174318432943\n",
      "Final Total Energy: 0.0485173235012645\n",
      "Average Total Energy: 0.04851819767722182\n",
      "Std. Total Energy: 1.3527082014118312e-06\n",
      "Average Atomic Separation: 2.3909936764450035\n",
      "Std. Atomic Separation: 0.25172704743523533\n"
     ]
    }
   ],
   "source": [
    "atomicSeparations = pd.read_csv(aspath)\n",
    "energies = pd.read_csv(enpath)\n",
    "vv = energies\n",
    "print(\"Initial Total Energy:\", energies[\"TE\"].iat[0])\n",
    "print(\"Final Total Energy:\", energies[\"TE\"].iat[-1])\n",
    "print(\"Average Total Energy:\", np.mean(energies[\"TE\"]))\n",
    "print(\"Std. Total Energy:\", np.std(energies[\"TE\"]))\n",
    "print(\"Average Atomic Separation:\", np.mean(atomicSeparations[\"Atom1-Atom2\"]))\n",
    "print(\"Std. Atomic Separation:\", np.std(atomicSeparations[\"Atom1-Atom2\"]))"
   ]
  }
 ],
 "metadata": {
  "kernelspec": {
   "display_name": "dispro",
   "language": "python",
   "name": "python3"
  },
  "language_info": {
   "codemirror_mode": {
    "name": "ipython",
    "version": 3
   },
   "file_extension": ".py",
   "mimetype": "text/x-python",
   "name": "python",
   "nbconvert_exporter": "python",
   "pygments_lexer": "ipython3",
   "version": "3.11.4"
  },
  "orig_nbformat": 4
 },
 "nbformat": 4,
 "nbformat_minor": 2
}
